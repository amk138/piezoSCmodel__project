{
 "cells": [
  {
   "cell_type": "code",
   "execution_count": 2,
   "id": "38221bac",
   "metadata": {},
   "outputs": [
    {
     "name": "stdout",
     "output_type": "stream",
     "text": [
      "1.0\n",
      "1.9033860045146732e-05\n",
      "4.925011286681716e-07\n",
      "3.5951467268623034\n"
     ]
    },
    {
     "data": {
      "image/png": "[encoded data removed]",
      "text/plain": [
       "<Figure size 432x288 with 1 Axes>"
      ]
     },
     "metadata": {
      "needs_background": "light"
     },
     "output_type": "display_data"
    },
    {
     "data": {
      "text/plain": [
       "<sympy.plotting.plot.Plot at 0x17a3a3578e0>"
      ]
     },
     "execution_count": 2,
     "metadata": {},
     "output_type": "execute_result"
    }
   ],
   "source": [
    "from sympy import*\n",
    "\n",
    "\n",
    "phi_m=4.5 #(volt)\n",
    "hi=4.05 #(volt)\n",
    "q=1.6*(10**-19) #(C)\n",
    "es=1.054*(10**-10) #(C*V/m)\n",
    "ND=10**22 #(1/m^3)\n",
    "ei=8.86*(10**-12) #(C*V/m)\n",
    "delta=5*(10**-10) #(m)\n",
    "k=1.38*(10**(-23)) #(ev/k)\n",
    "T=300 #(Kelvin)\n",
    "Dit=4*(10**17) #1/(m^2*ev)\n",
    "Eg=1.12 #(ev)\n",
    "phi_o=0.33 #(volt)\n",
    "phi_n=0 #(volt)\n",
    "\n",
    "a=1+(((q**2)*Dit*delta)/ei)\n",
    "print(a)\n",
    "b=(2*q*es*ND*(delta*2))/(ei*2)\n",
    "print(b)\n",
    "c=b*(phi_n+((k*T)/q))\n",
    "print(c)\n",
    "d=((q*Dit*delta)/ei)*(Eg-q*phi_o)+hi-phi_m\n",
    "print(d)\n",
    "x = Symbol('x')\n",
    "f= Function('f')\n",
    "#f=a*x+sqrt(b*x-c)-d\n",
    "\n",
    "\n",
    "plot(a*x+sqrt(b*x-c)-d)"
   ]
  },
  {
   "cell_type": "code",
   "execution_count": 3,
   "id": "2654bb8a",
   "metadata": {},
   "outputs": [
    {
     "data": {
      "text/latex": [
       "$\\displaystyle 3.58679875264893$"
      ],
      "text/plain": [
       "3.58679875264893"
      ]
     },
     "execution_count": 3,
     "metadata": {},
     "output_type": "execute_result"
    }
   ],
   "source": [
    "def newton(f, df, x0, error):\n",
    "    # output is an estimation of the root of f \n",
    "    # using the Newton Raphson method\n",
    "  \n",
    "    x = Symbol('x')\n",
    "   \n",
    "    fx0=f.subs(x,x0) \n",
    "       \n",
    " \n",
    "    dfx0=df.subs(x,x0) \n",
    "            \n",
    "    if abs(fx0) > error:\n",
    "        x0=x0-(fx0/dfx0)\n",
    "        return newton(f, df, x0 , error)\n",
    "    else:\n",
    "        return  x0\n",
    "    \n",
    "x = Symbol('x')\n",
    "F=a*x+sqrt(b*x-c)-d\n",
    "f=F.diff(x)\n",
    "newton(F,f,5,0.01)"
   ]
  },
  {
   "cell_type": "code",
   "execution_count": null,
   "id": "5c049e04",
   "metadata": {},
   "outputs": [],
   "source": []
  }
 ],
 "metadata": {
  "kernelspec": {
   "display_name": "Python 3 (ipykernel)",
   "language": "python",
   "name": "python3"
  },
  "language_info": {
   "codemirror_mode": {
    "name": "ipython",
    "version": 3
   },
   "file_extension": ".py",
   "mimetype": "text/x-python",
   "name": "python",
   "nbconvert_exporter": "python",
   "pygments_lexer": "ipython3",
   "version": "3.9.7"
  }
 },
 "nbformat": 4,
 "nbformat_minor": 5
}
